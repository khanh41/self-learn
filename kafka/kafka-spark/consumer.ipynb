{
 "cells": [
  {
   "cell_type": "code",
   "execution_count": 1,
   "id": "a524c9f3-9a59-4675-820a-c286ce269a62",
   "metadata": {},
   "outputs": [],
   "source": [
    "from pyspark.sql import SparkSession\n",
    "from pyspark.sql.functions import *\n",
    "from pyspark.ml.feature import Normalizer, StandardScaler\n",
    "import random\n",
    "\n",
    "import time"
   ]
  },
  {
   "cell_type": "code",
   "execution_count": 2,
   "id": "6bd50c06-0cba-4003-b12a-96b2a357cfde",
   "metadata": {},
   "outputs": [],
   "source": [
    "JAR_HOME = \"/home/khanhpluto/khanhtv/test_spark/zxc/jars_dir\"\n",
    "\n",
    "JAR_FILE_NAME = [\"commons-pool2-2.11.1.jar\", \"kafka-clients-3.1.0.jar\", \n",
    "                 \"spark-sql-kafka-0-10_2.12-3.2.1.jar\", \"spark-token-provider-kafka-0-10_2.12-3.2.1.jar\"]"
   ]
  },
  {
   "cell_type": "code",
   "execution_count": 3,
   "id": "3d2281f7-78a1-4be6-a1c0-50ea4323e386",
   "metadata": {},
   "outputs": [],
   "source": [
    "JAR_PATH = \"\"\n",
    "\n",
    "for file_name in JAR_FILE_NAME:\n",
    "    JAR_PATH += f'{JAR_HOME}/{file_name},'\n",
    "\n",
    "JAR_PATH = JAR_PATH[:-1]"
   ]
  },
  {
   "cell_type": "code",
   "execution_count": 4,
   "id": "c36e0d69-8df8-45ad-9c65-842e34e515ac",
   "metadata": {},
   "outputs": [],
   "source": [
    "# JAR_PATH = \"/home/khanhpluto/khanhtv/test_spark/zxc/jars_dir/spark-sql-kafka-0-10_2.12-3.2.1.jar,/home/khanhpluto/khanhtv/kafka-clients-3.1.0.jar\""
   ]
  },
  {
   "cell_type": "code",
   "execution_count": 5,
   "id": "42201709-cdf5-4b9f-8c21-a46c10dfd13f",
   "metadata": {},
   "outputs": [
    {
     "data": {
      "text/plain": [
       "'/home/khanhpluto/khanhtv/test_spark/zxc/jars_dir/commons-pool2-2.11.1.jar,/home/khanhpluto/khanhtv/test_spark/zxc/jars_dir/kafka-clients-3.1.0.jar,/home/khanhpluto/khanhtv/test_spark/zxc/jars_dir/spark-sql-kafka-0-10_2.12-3.2.1.jar,/home/khanhpluto/khanhtv/test_spark/zxc/jars_dir/spark-token-provider-kafka-0-10_2.12-3.2.1.jar'"
      ]
     },
     "execution_count": 5,
     "metadata": {},
     "output_type": "execute_result"
    }
   ],
   "source": [
    "JAR_PATH"
   ]
  },
  {
   "cell_type": "code",
   "execution_count": 6,
   "id": "ca55b7d0-d7c0-49ca-93ee-9f0a9a3fc13b",
   "metadata": {},
   "outputs": [],
   "source": [
    "kafka_topic_name = \"topic1\"\n",
    "kafka_bootstrap_servers = 'localhost:9092'"
   ]
  },
  {
   "cell_type": "code",
   "execution_count": 7,
   "id": "c409ca16-1261-4d69-9a06-6593279502a3",
   "metadata": {},
   "outputs": [
    {
     "name": "stderr",
     "output_type": "stream",
     "text": [
      "/home/khanhpluto/khanhtv/test_spark/zxc/venv/lib/python3.6/site-packages/pyspark/context.py:238: FutureWarning: Python 3.6 support is deprecated in Spark 3.2.\n",
      "  FutureWarning\n"
     ]
    }
   ],
   "source": [
    "spark = SparkSession.builder.appName(\"Spark kafka\") \\\n",
    "    .config(\"spark.jars\", JAR_PATH) \\\n",
    "    .config(\"spark.executor.extraClassPath\", JAR_PATH) \\\n",
    "    .config(\"spark.executor.extraLibrary\", JAR_PATH) \\\n",
    "    .config(\"spark.driver.extraClassPath\", JAR_PATH) \\\n",
    "    .config(\"spark.driver.userClassPathFirst\", \"true\") \\\n",
    "    .getOrCreate()\n",
    "\n",
    "spark.sparkContext.setLogLevel(\"ERROR\")"
   ]
  },
  {
   "cell_type": "code",
   "execution_count": 8,
   "id": "f4b4e419-6d64-4b41-9603-bde3efda7b88",
   "metadata": {},
   "outputs": [],
   "source": [
    "flower_df = spark \\\n",
    "            .readStream \\\n",
    "            .format(\"kafka\") \\\n",
    "            .option(\"kafka.bootstrap.servers\", kafka_bootstrap_servers) \\\n",
    "            .option(\"subscribe\", kafka_topic_name) \\\n",
    "            .option(\"startingOffsets\", \"latest\") \\\n",
    "            .load()\n",
    "\n",
    "flower_df1 = flower_df.selectExpr(\"CAST(value AS STRING)\", \"timestamp\")\n",
    "\n",
    "\n",
    "flower_schema_string = \"sepal_length DOUBLE,sepal_width DOUBLE,petal_length DOUBLE,petal_width DOUBLE,species STRING\""
   ]
  },
  {
   "cell_type": "code",
   "execution_count": 9,
   "id": "af088398-5581-4161-b714-24c181984bbd",
   "metadata": {},
   "outputs": [
    {
     "data": {
      "text/plain": [
       "False"
      ]
     },
     "execution_count": 9,
     "metadata": {},
     "output_type": "execute_result"
    }
   ],
   "source": [
    "flower_df2 = flower_df1 \\\n",
    "        .select(from_csv(col(\"value\"), flower_schema_string) \\\n",
    "                .alias(\"flower\"), \"timestamp\")\n",
    "\n",
    "\n",
    "flower_df3 = flower_df2.select(\"flower.*\", \"timestamp\")\n",
    "\n",
    "    \n",
    "flower_df3.createOrReplaceTempView(\"flower_find\");\n",
    "song_find_text = spark.sql(\"SELECT * FROM flower_find\")\n",
    "flower_agg_write_stream = song_find_text \\\n",
    "        .writeStream \\\n",
    "        .trigger(processingTime='5 seconds') \\\n",
    "        .outputMode(\"append\") \\\n",
    "        .option(\"truncate\", \"false\") \\\n",
    "        .format(\"memory\") \\\n",
    "        .queryName(\"testedTable\") \\\n",
    "        .start()\n",
    "\n",
    "flower_agg_write_stream.awaitTermination(1)"
   ]
  },
  {
   "cell_type": "code",
   "execution_count": 30,
   "id": "416ccd3d-c33c-4b60-9235-176bad319419",
   "metadata": {},
   "outputs": [
    {
     "name": "stdout",
     "output_type": "stream",
     "text": [
      "+------------+-----------+------------+-----------+-------+--------------------+\n",
      "|sepal_length|sepal_width|petal_length|petal_width|species|           timestamp|\n",
      "+------------+-----------+------------+-----------+-------+--------------------+\n",
      "|         5.1|        3.5|         1.4|        0.2| Setosa|2022-04-14 16:02:...|\n",
      "|         4.9|        3.0|         1.4|        0.2| Setosa|2022-04-14 16:02:...|\n",
      "|         4.7|        3.2|         1.3|        0.2| Setosa|2022-04-14 16:02:...|\n",
      "|         4.6|        3.1|         1.5|        0.2| Setosa|2022-04-14 16:02:...|\n",
      "|         5.0|        3.6|         1.4|        0.2| Setosa|2022-04-14 16:02:...|\n",
      "|         5.4|        3.9|         1.7|        0.4| Setosa|2022-04-14 16:02:...|\n",
      "|         4.6|        3.4|         1.4|        0.3| Setosa|2022-04-14 16:02:...|\n",
      "|         5.0|        3.4|         1.5|        0.2| Setosa|2022-04-14 16:02:...|\n",
      "|         4.4|        2.9|         1.4|        0.2| Setosa|2022-04-14 16:02:...|\n",
      "|         4.9|        3.1|         1.5|        0.1| Setosa|2022-04-14 16:02:...|\n",
      "|         5.4|        3.7|         1.5|        0.2| Setosa|2022-04-14 16:02:...|\n",
      "|         4.8|        3.4|         1.6|        0.2| Setosa|2022-04-14 16:02:...|\n",
      "|         4.8|        3.0|         1.4|        0.1| Setosa|2022-04-14 16:02:...|\n",
      "|         4.3|        3.0|         1.1|        0.1| Setosa|2022-04-14 16:02:...|\n",
      "|         5.8|        4.0|         1.2|        0.2| Setosa|2022-04-14 16:02:...|\n",
      "|         5.7|        4.4|         1.5|        0.4| Setosa|2022-04-14 16:02:...|\n",
      "|         5.4|        3.9|         1.3|        0.4| Setosa|2022-04-14 16:02:...|\n",
      "|         5.1|        3.5|         1.4|        0.3| Setosa|2022-04-14 16:02:...|\n",
      "|         5.7|        3.8|         1.7|        0.3| Setosa|2022-04-14 16:02:...|\n",
      "|         5.1|        3.8|         1.5|        0.3| Setosa|2022-04-14 16:02:...|\n",
      "+------------+-----------+------------+-----------+-------+--------------------+\n",
      "only showing top 20 rows\n",
      "\n"
     ]
    }
   ],
   "source": [
    "df = spark.sql(\"SELECT * FROM testedTable\")\n",
    "df.show()"
   ]
  },
  {
   "cell_type": "code",
   "execution_count": 31,
   "id": "f7c7a9e6-0923-4675-8f7c-e19658e9f1e7",
   "metadata": {},
   "outputs": [
    {
     "data": {
      "text/plain": [
       "107"
      ]
     },
     "execution_count": 31,
     "metadata": {},
     "output_type": "execute_result"
    }
   ],
   "source": [
    "df.count()"
   ]
  },
  {
   "cell_type": "code",
   "execution_count": null,
   "id": "7bbd2387-3682-424c-8c53-c7e22dc61a7f",
   "metadata": {},
   "outputs": [],
   "source": []
  },
  {
   "cell_type": "code",
   "execution_count": null,
   "id": "e03f90be-c76a-402f-9c5f-97246dd3c3ef",
   "metadata": {},
   "outputs": [],
   "source": []
  }
 ],
 "metadata": {
  "kernelspec": {
   "display_name": "Python 3",
   "language": "python",
   "name": "python3"
  },
  "language_info": {
   "codemirror_mode": {
    "name": "ipython",
    "version": 3
   },
   "file_extension": ".py",
   "mimetype": "text/x-python",
   "name": "python",
   "nbconvert_exporter": "python",
   "pygments_lexer": "ipython3",
   "version": "3.6.9"
  }
 },
 "nbformat": 4,
 "nbformat_minor": 5
}

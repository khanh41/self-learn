{
 "cells": [
  {
   "cell_type": "code",
   "execution_count": 1,
   "id": "9341174a-144b-4fab-a042-631c8b0f8e60",
   "metadata": {},
   "outputs": [],
   "source": [
    "from kafka import KafkaConsumer"
   ]
  },
  {
   "cell_type": "code",
   "execution_count": 2,
   "id": "84ba2212-ddbf-45fb-88c1-11044e9385ee",
   "metadata": {},
   "outputs": [],
   "source": [
    "consumer = KafkaConsumer(\n",
    "    'topic1',\n",
    "     bootstrap_servers=['192.168.9.11:9092'],\n",
    "              api_version=(0,11,5),\n",
    "     auto_offset_reset='earliest',\n",
    "     enable_auto_commit=True,\n",
    "     value_deserializer=lambda x: loads(x.decode('utf-8')))"
   ]
  },
  {
   "cell_type": "code",
   "execution_count": null,
   "id": "1822c006-312f-4950-9576-d6a70652bf20",
   "metadata": {},
   "outputs": [],
   "source": [
    "for message in consumer:\n",
    "    message = message.value\n",
    "    print('{} added to'.format(message))"
   ]
  },
  {
   "cell_type": "code",
   "execution_count": null,
   "id": "431857c2-1548-4998-8fb4-a371d7cd12bd",
   "metadata": {},
   "outputs": [],
   "source": []
  }
 ],
 "metadata": {
  "kernelspec": {
   "display_name": "Python 3",
   "language": "python",
   "name": "python3"
  },
  "language_info": {
   "codemirror_mode": {
    "name": "ipython",
    "version": 3
   },
   "file_extension": ".py",
   "mimetype": "text/x-python",
   "name": "python",
   "nbconvert_exporter": "python",
   "pygments_lexer": "ipython3",
   "version": "3.6.9"
  }
 },
 "nbformat": 4,
 "nbformat_minor": 5
}
